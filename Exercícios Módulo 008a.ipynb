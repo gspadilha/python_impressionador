{
 "cells": [
  {
   "cell_type": "markdown",
   "metadata": {},
   "source": [
    "# Exercícios\n",
    "\n",
    "## 1. Criando um Registro de Hóspedes\n",
    "\n",
    "Digamos que você está criando o sistema para registrar a chegada de hóspedes em um hotel. No hotel, os hóspedes podem ter quartos com 1, 2, 3 e 4 pessoas. Seu sistema deve conseguir:\n",
    "\n",
    "1. Identificar quantas pessoas o hóspede que acabou de chegar vai ter no quarto (perguntando por meio de input)\n",
    "2. De acordo com a quantidade de pessoas do hóspede, ele deve fazer um for para perguntar o cpf e o nome de cada pessoa, a fim de registrá-la no quarto (2 inputs para cada pessoa, 1 para o cpf e outro para o nome)\n",
    "3. O seu programa então deve gerar uma lista com todas as pessoas que ficarão no quarto em que cada item dessa lista é o nome da pessoa e o cpf da pessoa, assim:"
   ]
  },
  {
   "cell_type": "raw",
   "metadata": {},
   "source": [
    "quarto = [\n",
    "    ['João', 'cpf:00000000000'],\n",
    "    ['Julia', 'cpf:11111111111'],\n",
    "    ['Marcus', 'cpf:22222222222'],\n",
    "    ['Maria', 'cpf:33333333333'],\n",
    "]"
   ]
  },
  {
   "cell_type": "markdown",
   "metadata": {},
   "source": [
    "- Para simplificar, não vamos nos preocupar com possibilidades de \"tentar colocar mais de 1 hóspede, digitar o cpf errado, etc. Nosso objetivo é treinar a criação de uma rotina de cadastro"
   ]
  },
  {
   "cell_type": "code",
   "execution_count": 5,
   "metadata": {},
   "outputs": [
    {
     "name": "stdout",
     "output_type": "stream",
     "text": [
      "Qual a quantidade de pessoas a serem hospedadas no quarto2\n",
      "Qual o nome do hóspede: guilherme\n",
      "Informe o CPF do hóspede: 1\n",
      "Qual o nome do hóspede: aline\n",
      "Informe o CPF do hóspede: 2\n",
      "[['guilherme', '1'], ['aline', '2']]\n"
     ]
    }
   ],
   "source": [
    "#seu código aqui\n",
    "quarto = []\n",
    "\n",
    "quantidade_hospedes = input('Qual a quantidade de pessoas a serem hospedadas no quarto')\n",
    "\n",
    "for x in range(int(quantidade_hospedes)):\n",
    "    nome = input('Qual o nome do hóspede: ')\n",
    "    cpf = input('Informe o CPF do hóspede: ')\n",
    "        \n",
    "    hospede = []\n",
    "    hospede.append(nome)\n",
    "    hospede.append(cpf)\n",
    "    \n",
    "    quarto.append(hospede)\n",
    "\n",
    "print(quarto)"
   ]
  },
  {
   "cell_type": "markdown",
   "metadata": {},
   "source": [
    "## 2. Análise de Vendas\n",
    "\n",
    "Nesse exercício vamos fazer uma \"análise simples\" de atingimento de Meta.\n",
    "\n",
    "Temos uma lista com os vendedores e os valores de vendas e queremos identificar (printar) quais os vendedores que bateram a meta e qual foi o valor que eles venderam."
   ]
  },
  {
   "cell_type": "code",
   "execution_count": 8,
   "metadata": {},
   "outputs": [
    {
     "name": "stdout",
     "output_type": "stream",
     "text": [
      "vendedor João atingiu a meta com mais de 15_000 vendas\n",
      "vendedor Julia atingiu a meta com mais de 27_000 vendas\n",
      "vendedor Ana atingiu a meta com mais de 10_300 vendas\n"
     ]
    }
   ],
   "source": [
    "meta = 10000\n",
    "vendas = [\n",
    "    ['João', 15000],\n",
    "    ['Julia', 27000],\n",
    "    ['Marcus', 9900],\n",
    "    ['Maria', 3750],\n",
    "    ['Ana', 10300],\n",
    "    ['Alon', 7870],\n",
    "]\n",
    "#seu código aqui\n",
    "\n",
    "for venda in vendas:\n",
    "    if venda[1] >= meta:\n",
    "        print(f'vendedor {venda[0]} atingiu a meta com mais de {venda[1]:_} vendas')"
   ]
  },
  {
   "cell_type": "markdown",
   "metadata": {},
   "source": [
    "## 3. Comparação com Ano Anterior\n",
    "\n",
    "Digamos que você está analisando as vendas de produtos de um ecommerce e quer identificar quais produtos tiveram no ano de 2020 mais vendas do que no ano de 2019, para reportar isso para a diretoria.\n",
    "\n",
    "Sua resposta pode ser um print de cada produto, qual foi a venda de 2019, a venda de 2020 e o % de crescimento de 2020 para 2019.\n",
    "\n",
    "Lembrando, para calcular o % de crescimento de um produto de um ano para o outro, podemos fazer: (vendas_produto2020/vendas_produto2019 - 1)\n",
    "\n",
    "Dica: lembre do enumerate, ele pode facilitar seu \"for\""
   ]
  },
  {
   "cell_type": "code",
   "execution_count": 10,
   "metadata": {},
   "outputs": [],
   "source": [
    "produtos = ['iphone', 'galaxy', 'ipad', 'tv', 'máquina de café', 'kindle', 'geladeira', 'adega', 'notebook dell', 'notebook hp', 'notebook asus', 'microsoft surface', 'webcam', 'caixa de som', 'microfone', 'câmera canon']\n",
    "vendas2019 = [558147,712350,573823,405252,718654,531580,973139,892292,422760,154753,887061,438508,237467,489705,328311,591120]\n",
    "vendas2020 = [951642,244295,26964,787604,867660,78830,710331,646016,694913,539704,324831,667179,295633,725316,644622,994303]\n",
    "#seu código aqui"
   ]
  },
  {
   "cell_type": "code",
   "execution_count": 28,
   "metadata": {},
   "outputs": [
    {
     "name": "stdout",
     "output_type": "stream",
     "text": [
      "\n",
      "O produto iphone vendeu em 2019: 558_147 unidades, e em 2020: 951_642 unidades.\n",
      "Houve um aumento de 70.500245%\n",
      "\n",
      "O produto galaxy vendeu em 2019: 712_350 unidades, e em 2020: 244_295 unidades.\n",
      "Houve uma queda nas vendas\n",
      "\n",
      "O produto ipad vendeu em 2019: 573_823 unidades, e em 2020: 26_964 unidades.\n",
      "Houve uma queda nas vendas\n",
      "\n",
      "O produto tv vendeu em 2019: 405_252 unidades, e em 2020: 787_604 unidades.\n",
      "Houve um aumento de 94.349195%\n",
      "\n",
      "O produto máquina de café vendeu em 2019: 718_654 unidades, e em 2020: 867_660 unidades.\n",
      "Houve um aumento de 20.734039%\n",
      "\n",
      "O produto kindle vendeu em 2019: 531_580 unidades, e em 2020: 78_830 unidades.\n",
      "Houve uma queda nas vendas\n",
      "\n",
      "O produto geladeira vendeu em 2019: 973_139 unidades, e em 2020: 710_331 unidades.\n",
      "Houve uma queda nas vendas\n",
      "\n",
      "O produto adega vendeu em 2019: 892_292 unidades, e em 2020: 646_016 unidades.\n",
      "Houve uma queda nas vendas\n",
      "\n",
      "O produto notebook dell vendeu em 2019: 422_760 unidades, e em 2020: 694_913 unidades.\n",
      "Houve um aumento de 64.375296%\n",
      "\n",
      "O produto notebook hp vendeu em 2019: 154_753 unidades, e em 2020: 539_704 unidades.\n",
      "Houve um aumento de 248.751882%\n",
      "\n",
      "O produto notebook asus vendeu em 2019: 887_061 unidades, e em 2020: 324_831 unidades.\n",
      "Houve uma queda nas vendas\n",
      "\n",
      "O produto microsoft surface vendeu em 2019: 438_508 unidades, e em 2020: 667_179 unidades.\n",
      "Houve um aumento de 52.147509%\n",
      "\n",
      "O produto webcam vendeu em 2019: 237_467 unidades, e em 2020: 295_633 unidades.\n",
      "Houve um aumento de 24.494351%\n",
      "\n",
      "O produto caixa de som vendeu em 2019: 489_705 unidades, e em 2020: 725_316 unidades.\n",
      "Houve um aumento de 48.112843%\n",
      "\n",
      "O produto microfone vendeu em 2019: 328_311 unidades, e em 2020: 644_622 unidades.\n",
      "Houve um aumento de 96.344929%\n",
      "\n",
      "O produto câmera canon vendeu em 2019: 591_120 unidades, e em 2020: 994_303 unidades.\n",
      "Houve um aumento de 68.206625%\n"
     ]
    }
   ],
   "source": [
    "for index, produto in enumerate(produtos):\n",
    "    print('')\n",
    "    print(f'O produto {produto} vendeu em 2019: {vendas2019[index]:_} unidades, e em 2020: {vendas2020[index]:_} unidades.')\n",
    "    \n",
    "    if vendas2019[index] < vendas2020[index]:\n",
    "        print(f'Houve um aumento de {(vendas2020[index] / vendas2019[index] - 1):%}')\n",
    "    else: \n",
    "        print(f'Houve uma queda nas vendas')\n",
    "        \n"
   ]
  },
  {
   "cell_type": "code",
   "execution_count": null,
   "metadata": {},
   "outputs": [],
   "source": []
  }
 ],
 "metadata": {
  "kernelspec": {
   "display_name": "Python 3 (ipykernel)",
   "language": "python",
   "name": "python3"
  },
  "language_info": {
   "codemirror_mode": {
    "name": "ipython",
    "version": 3
   },
   "file_extension": ".py",
   "mimetype": "text/x-python",
   "name": "python",
   "nbconvert_exporter": "python",
   "pygments_lexer": "ipython3",
   "version": "3.9.16"
  }
 },
 "nbformat": 4,
 "nbformat_minor": 4
}
