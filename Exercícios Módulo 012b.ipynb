{
 "cells": [
  {
   "cell_type": "markdown",
   "metadata": {},
   "source": [
    "# Exercícios\n",
    "\n",
    "## 1. Exercício \"menos prático\" para treinar manipulação de dicionário\n",
    "\n",
    "Dessa vez, vamos apenas treinar a manipulação de dicionário. Transforme as listas abaixo em 1 único dicionário no formato:"
   ]
  },
  {
   "cell_type": "raw",
   "metadata": {},
   "source": [
    "dicionario = {\n",
    "    produto: [vendas2019, vendas2020],\n",
    "    produto2: [vendas2019, vendas2020],\n",
    "    produto3: [vendas2019, vendas2020],\n",
    "    ...\n",
    "}"
   ]
  },
  {
   "cell_type": "markdown",
   "metadata": {},
   "source": [
    "- Apesar de parecer \"menos prático\" esse é um procedimento que precisamos nos acostumar a fazer, visto que algumas funções (tema dos próximos módulos) precisam de dicionários para funcionar e saber transformar listas em dicionários (e vice-versa) é uma habilidade muito útil\n",
    "\n",
    "Obs: Lembre do zip para juntar listas.<br>\n",
    "Obs2: Repare que cada item das vendas é na verdade uma lista. Então é provável que você precise fazer esse código em 2 etapas"
   ]
  },
  {
   "cell_type": "code",
   "execution_count": 20,
   "metadata": {},
   "outputs": [
    {
     "ename": "ValueError",
     "evalue": "dictionary update sequence element #0 has length 6; 2 is required",
     "output_type": "error",
     "traceback": [
      "\u001b[1;31m---------------------------------------------------------------------------\u001b[0m",
      "\u001b[1;31mValueError\u001b[0m                                Traceback (most recent call last)",
      "Cell \u001b[1;32mIn[20], line 12\u001b[0m\n\u001b[0;32m      9\u001b[0m     p \u001b[38;5;241m=\u001b[39m []\n\u001b[0;32m     10\u001b[0m     p\u001b[38;5;241m.\u001b[39mappend([v2019, vendas2020[i]])\n\u001b[1;32m---> 12\u001b[0m     \u001b[38;5;28mprint\u001b[39m(\u001b[38;5;28;43mdict\u001b[39;49m\u001b[43m(\u001b[49m\u001b[43m[\u001b[49m\u001b[43mprodutos\u001b[49m\u001b[43m[\u001b[49m\u001b[43mi\u001b[49m\u001b[43m]\u001b[49m\u001b[43m,\u001b[49m\u001b[43m \u001b[49m\u001b[43mp\u001b[49m\u001b[43m]\u001b[49m\u001b[43m)\u001b[49m)\n\u001b[0;32m     15\u001b[0m \u001b[38;5;28mprint\u001b[39m(l)\n",
      "\u001b[1;31mValueError\u001b[0m: dictionary update sequence element #0 has length 6; 2 is required"
     ]
    }
   ],
   "source": [
    "produtos = ['iphone', 'galaxy', 'ipad', 'tv', 'máquina de café', 'kindle', 'geladeira', 'adega', 'notebook dell', 'notebook hp', 'notebook asus', 'microsoft surface', 'webcam', 'caixa de som', 'microfone', 'câmera canon']\n",
    "vendas2019 = [558147,712350,573823,405252,718654,531580,973139,892292,422760,154753,887061,438508,237467,489705,328311,591120]\n",
    "vendas2020 = [951642,244295,26964,787604,867660,78830,710331,646016,694913,539704,324831,667179,295633,725316,644622,994303]\n",
    "\n",
    "#seu código aqui\n",
    "l = []\n",
    "\n",
    "for i, v2019 in enumerate(vendas2019):\n",
    "    p = []\n",
    "    p.append([v2019, vendas2020[i]])\n",
    "    \n",
    "    print(dict([produtos[i], p]))\n",
    "    \n",
    " \n",
    "print(l)"
   ]
  }
 ],
 "metadata": {
  "kernelspec": {
   "display_name": "Python 3 (ipykernel)",
   "language": "python",
   "name": "python3"
  },
  "language_info": {
   "codemirror_mode": {
    "name": "ipython",
    "version": 3
   },
   "file_extension": ".py",
   "mimetype": "text/x-python",
   "name": "python",
   "nbconvert_exporter": "python",
   "pygments_lexer": "ipython3",
   "version": "3.9.16"
  }
 },
 "nbformat": 4,
 "nbformat_minor": 4
}
